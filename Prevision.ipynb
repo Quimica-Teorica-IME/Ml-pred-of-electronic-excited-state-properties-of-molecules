{
 "cells": [
  {
   "cell_type": "code",
   "execution_count": 14,
   "metadata": {},
   "outputs": [],
   "source": [
    "### --- importing dependences ---- ###\n",
    "\n",
    "#For the code to work perfectly, the libraries below must contain the following versions:\n",
    "\n",
    "#Name: joblib         Version: 1.4.2\n",
    "#Name: rdkit          Version: 2023.9.5\n",
    "#Name: scikit-learn   Version: 1.4.1.post1\n",
    "#Name: tensorflow      Version: 2.16.1\n",
    "\n",
    "#%pip show joblib rdkit scikit-learn\n",
    "#%pip install joblib==1.4.2\n",
    "#%pip install rdkit==2023.9.5\n",
    "#%pip install scikit-learn==1.4.1.post1\n",
    "#%pip install tensorflow==2.16.1\n",
    "\n",
    "\n",
    "import joblib\n",
    "import numpy as np\n",
    "\n",
    "from rdkit import Chem\n",
    "from rdkit.Chem import AllChem\n",
    "from rdkit.Chem.Descriptors import *\n",
    "from rdkit.Chem.rdMolDescriptors import *\n",
    "from rdkit.Chem.Lipinski import *\n",
    "from rdkit.Chem.EState import *\n",
    "from rdkit.Chem.GraphDescriptors import *\n",
    "from rdkit.Chem.Graphs import *\n",
    "from math import sqrt, ceil"
   ]
  },
  {
   "cell_type": "code",
   "execution_count": 3,
   "metadata": {},
   "outputs": [],
   "source": [
    "### important functions\n",
    "def flatten_list(lst):\n",
    "    flat_list = []\n",
    "    for item in lst:\n",
    "        if isinstance(item, list):\n",
    "            flat_list.extend(flatten_list(item))\n",
    "        else:\n",
    "            flat_list.append(item)\n",
    "    return flat_list\n",
    "\n",
    "def properties_array(sSmiles):\n",
    "    try:\n",
    "        m = Chem.MolFromSmiles(sSmiles)\n",
    "        p1 = AllChem.GetMorganFingerprintAsBitVect(m, 2, 512)\n",
    "        p2 = Chem.rdMolDescriptors.GetMACCSKeysFingerprint(m)\n",
    "\n",
    "        p3 = [1000*FpDensityMorgan1(m), 1000*FpDensityMorgan2(m), 1000*FpDensityMorgan3(m), ExactMolWt(m), HeavyAtomMolWt(m), 1000*MaxAbsPartialCharge(m), 1000*MaxPartialCharge(m), 1000*MinAbsPartialCharge(m), 1000*MinPartialCharge(m), NumRadicalElectrons(m), NumValenceElectrons(m),1000*CalcFractionCSP3(m),10*CalcKappa1(m),10*CalcKappa2(m),10*CalcKappa3(m),CalcLabuteASA(m),CalcNumAliphaticCarbocycles(m),CalcNumAliphaticHeterocycles(m),CalcNumAliphaticRings(m),CalcNumAmideBonds(m),CalcNumAromaticCarbocycles(m),CalcNumAromaticHeterocycles(m),CalcNumAromaticRings(m),CalcNumAtomStereoCenters(m),CalcNumBridgeheadAtoms(m),CalcNumHBA(m),CalcNumHBD(m),CalcNumHeteroatoms(m),CalcNumHeterocycles(m),CalcNumLipinskiHBA(m),CalcNumLipinskiHBD(m),CalcNumRings(m),CalcNumRotatableBonds(m),CalcNumSaturatedCarbocycles(m),CalcNumSaturatedHeterocycles(m),CalcNumSaturatedRings(m),CalcNumSpiroAtoms(m),CalcNumUnspecifiedAtomStereoCenters(m),CalcTPSA(m)]\n",
    "        pa3 = np.array(p3, dtype=np.int16)\n",
    "        \n",
    "        p4 = [HeavyAtomCount(m), NHOHCount(m), NOCount(m),NumHAcceptors(m), NumHDonors(m), Chi0(m), Chi1(m)]\n",
    "        \n",
    "        p5 = [rdMolDescriptors.BCUT2D(m)]\n",
    "\n",
    "        pa1 = np.array(list(p1), dtype=np.int16)\n",
    "        pa2 = np.array(list(p2), dtype=np.int16)\n",
    "        pa0 = np.concatenate([pa1, pa2])\n",
    "        pa4 = np.array(p4, dtype=np.int16)\n",
    "        pa5 = np.array(flatten_list(p5), dtype=np.int16)\n",
    "        \n",
    "        pa = np.concatenate([pa0,pa3, pa4,pa5])\n",
    "        #print(len(pa))\n",
    "\n",
    "        pa = np.array(pa)\n",
    "\n",
    "        return pa, True\n",
    "    except Exception as e:\n",
    "        print(f\"Ocorreu um erro: {e}\")\n",
    "        return None, False"
   ]
  },
  {
   "cell_type": "code",
   "execution_count": 1,
   "metadata": {},
   "outputs": [
    {
     "name": "stderr",
     "output_type": "stream",
     "text": [
      "1 molecule converted\n"
     ]
    }
   ],
   "source": [
    "### importante \n",
    "\n",
    "!obabel -:\"c1(cc(Br)c(cc1Br)C(CCCCBr)(Br)Br)C(CCCCBr)(Br)Br\" -O estrutura2.png"
   ]
  },
  {
   "cell_type": "code",
   "execution_count": 12,
   "metadata": {},
   "outputs": [
    {
     "name": "stderr",
     "output_type": "stream",
     "text": [
      "C:\\Users\\Usuário\\AppData\\Roaming\\Python\\Python312\\site-packages\\sklearn\\base.py:376: InconsistentVersionWarning: Trying to unpickle estimator StandardScaler from version 1.4.1.post1 when using version 1.5.2. This might lead to breaking code or invalid results. Use at your own risk. For more info please refer to:\n",
      "https://scikit-learn.org/stable/model_persistence.html#security-maintainability-limitations\n",
      "  warnings.warn(\n",
      "C:\\Users\\Usuário\\AppData\\Roaming\\Python\\Python312\\site-packages\\sklearn\\base.py:376: InconsistentVersionWarning: Trying to unpickle estimator DecisionTreeRegressor from version 1.4.1.post1 when using version 1.5.2. This might lead to breaking code or invalid results. Use at your own risk. For more info please refer to:\n",
      "https://scikit-learn.org/stable/model_persistence.html#security-maintainability-limitations\n",
      "  warnings.warn(\n",
      "C:\\Users\\Usuário\\AppData\\Roaming\\Python\\Python312\\site-packages\\sklearn\\base.py:376: InconsistentVersionWarning: Trying to unpickle estimator RandomForestRegressor from version 1.4.1.post1 when using version 1.5.2. This might lead to breaking code or invalid results. Use at your own risk. For more info please refer to:\n",
      "https://scikit-learn.org/stable/model_persistence.html#security-maintainability-limitations\n",
      "  warnings.warn(\n"
     ]
    },
    {
     "name": "stdout",
     "output_type": "stream",
     "text": [
      "\u001b[1m1/1\u001b[0m \u001b[32m━━━━━━━━━━━━━━━━━━━━\u001b[0m\u001b[37m\u001b[0m \u001b[1m0s\u001b[0m 32ms/step\n",
      "SMILES: c1(c(Br)cc(c(c1)Br)CC(C(Br)(Cl)Cl)(F)F)CC(C(Br)(Cl)Cl)(F)F, HOMO: 161, LUMO: 162, EE: 5.041, OS: 0.025, MO_i: 161.0, MO_f: 165, x: 0, y: 3\n",
      "\u001b[1m1/1\u001b[0m \u001b[32m━━━━━━━━━━━━━━━━━━━━\u001b[0m\u001b[37m\u001b[0m \u001b[1m0s\u001b[0m 13ms/step\n",
      "SMILES: c1(cc(Br)c(cc1Br)C(CCCC(Cl)Cl)(Br)Br)C(CCCC(Cl)Cl)(Br)Br, HOMO: 195, LUMO: 196, EE: 4.563, OS: 0.122, MO_i: 192.0, MO_f: 196, x: 3, y: 0\n"
     ]
    },
    {
     "name": "stderr",
     "output_type": "stream",
     "text": [
      "C:\\Users\\Usuário\\AppData\\Roaming\\Python\\Python312\\site-packages\\keras\\src\\saving\\saving_lib.py:576: UserWarning: Skipping variable loading for optimizer 'rmsprop', because it has 8 variables whereas the saved optimizer has 14 variables. \n",
      "  saveable.load_own_variables(weights_store.get(inner_path))\n"
     ]
    }
   ],
   "source": [
    "### Prevision\n",
    "import numpy as np\n",
    "from tensorflow.keras.models import load_model\n",
    "\n",
    "\n",
    "# List of SMILES\n",
    "smiles_list = [ \"c1(c(Br)cc(c(c1)Br)CC(C(Br)(Cl)Cl)(F)F)CC(C(Br)(Cl)Cl)(F)F\", \"c1(cc(Br)c(cc1Br)C(CCCC(Cl)Cl)(Br)Br)C(CCCC(Cl)Cl)(Br)Br\"]  \n",
    "\n",
    "\n",
    "path = \"./Models\"\n",
    "scaler = joblib.load(f'{path}/scaler_model.pkl')\n",
    "EE = joblib.load(f'{path}/RF_EE.pkl')\n",
    "OS = joblib.load(f'{path}/RF_OS.pkl')\n",
    "HO = joblib.load(f'{path}/RF_HO.pkl')\n",
    "LU = joblib.load(f'{path}/RF_LU.pkl')\n",
    "HOMO = load_model(f'{path}/HOMO-RNA.keras')\n",
    "\n",
    "for sSmiles in smiles_list:\n",
    "    pa, lC = properties_array(sSmiles)\n",
    "    \n",
    "    normalized_data = scaler.transform([pa])\n",
    "       \n",
    "    pa_2d = pa.reshape(1, -1)\n",
    "        \n",
    "    EE_pred = EE.predict(normalized_data)\n",
    "    OS_pred = OS.predict(normalized_data)\n",
    "    HO_pred = np.round(HO.predict(normalized_data))\n",
    "    LU_pred = np.round(LU.predict(normalized_data))\n",
    "    HOMO_pred = np.round(HOMO.predict(pa_2d))\n",
    "\n",
    "    #print(HOMO_pred[0])\n",
    "    \n",
    "    results = f'SMILES: {sSmiles}, HOMO: {round(HOMO_pred[0][0])}, LUMO: {round(HOMO_pred[0][0])+1}, EE: {round(EE_pred[0],3)}, OS: {round(OS_pred[0],3)}, MO_i: {round(HO_pred[0],3)}, MO_f: {round(LU_pred[0])}, x: {round(HOMO_pred[0][0]- round(HO_pred[0]))}, y: {round(LU_pred[0]-(round(HOMO_pred[0][0])+1))}'\n",
    "    \n",
    "    print(results)\n"
   ]
  }
 ],
 "metadata": {
  "kernelspec": {
   "display_name": "Python 3",
   "language": "python",
   "name": "python3"
  },
  "language_info": {
   "codemirror_mode": {
    "name": "ipython",
    "version": 3
   },
   "file_extension": ".py",
   "mimetype": "text/x-python",
   "name": "python",
   "nbconvert_exporter": "python",
   "pygments_lexer": "ipython3",
   "version": "3.12.2"
  }
 },
 "nbformat": 4,
 "nbformat_minor": 2
}
