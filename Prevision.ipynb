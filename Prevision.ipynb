{
 "cells": [
  {
   "cell_type": "code",
   "execution_count": 1,
   "metadata": {},
   "outputs": [],
   "source": [
    "### --- importing dependences ---- ###\n",
    "import joblib\n",
    "import numpy as np\n",
    "\n",
    "from rdkit import Chem\n",
    "from rdkit.Chem import AllChem\n",
    "from rdkit.Chem.Descriptors import *\n",
    "from rdkit.Chem.rdMolDescriptors import *\n",
    "from rdkit.Chem.Lipinski import *\n",
    "from rdkit.Chem.EState import *\n",
    "from rdkit.Chem.GraphDescriptors import *\n",
    "from rdkit.Chem.Graphs import *\n",
    "from math import sqrt, ceil"
   ]
  },
  {
   "cell_type": "code",
   "execution_count": 2,
   "metadata": {},
   "outputs": [],
   "source": [
    "### important functions\n",
    "def flatten_list(lst):\n",
    "    flat_list = []\n",
    "    for item in lst:\n",
    "        if isinstance(item, list):\n",
    "            flat_list.extend(flatten_list(item))\n",
    "        else:\n",
    "            flat_list.append(item)\n",
    "    return flat_list\n",
    "\n",
    "def properties_array(sSmiles):\n",
    "    try:\n",
    "        m = Chem.MolFromSmiles(sSmiles)\n",
    "        p1 = AllChem.GetMorganFingerprintAsBitVect(m, 2, 512)\n",
    "        p2 = Chem.rdMolDescriptors.GetMACCSKeysFingerprint(m)\n",
    "\n",
    "        p3 = [1000*FpDensityMorgan1(m), 1000*FpDensityMorgan2(m), 1000*FpDensityMorgan3(m), ExactMolWt(m), HeavyAtomMolWt(m), 1000*MaxAbsPartialCharge(m), 1000*MaxPartialCharge(m), 1000*MinAbsPartialCharge(m), 1000*MinPartialCharge(m), NumRadicalElectrons(m), NumValenceElectrons(m),1000*CalcFractionCSP3(m),10*CalcKappa1(m),10*CalcKappa2(m),10*CalcKappa3(m),CalcLabuteASA(m),CalcNumAliphaticCarbocycles(m),CalcNumAliphaticHeterocycles(m),CalcNumAliphaticRings(m),CalcNumAmideBonds(m),CalcNumAromaticCarbocycles(m),CalcNumAromaticHeterocycles(m),CalcNumAromaticRings(m),CalcNumAtomStereoCenters(m),CalcNumBridgeheadAtoms(m),CalcNumHBA(m),CalcNumHBD(m),CalcNumHeteroatoms(m),CalcNumHeterocycles(m),CalcNumLipinskiHBA(m),CalcNumLipinskiHBD(m),CalcNumRings(m),CalcNumRotatableBonds(m),CalcNumSaturatedCarbocycles(m),CalcNumSaturatedHeterocycles(m),CalcNumSaturatedRings(m),CalcNumSpiroAtoms(m),CalcNumUnspecifiedAtomStereoCenters(m),CalcTPSA(m)]\n",
    "        pa3 = np.array(p3, dtype=np.int16)\n",
    "        \n",
    "        p4 = [HeavyAtomCount(m), NHOHCount(m), NOCount(m),NumHAcceptors(m), NumHDonors(m), Chi0(m), Chi1(m)]\n",
    "        \n",
    "        p5 = [rdMolDescriptors.BCUT2D(m)]\n",
    "\n",
    "        pa1 = np.array(list(p1), dtype=np.int16)\n",
    "        pa2 = np.array(list(p2), dtype=np.int16)\n",
    "        pa0 = np.concatenate([pa1, pa2])\n",
    "        pa4 = np.array(p4, dtype=np.int16)\n",
    "        pa5 = np.array(flatten_list(p5), dtype=np.int16)\n",
    "        \n",
    "        pa = np.concatenate([pa0,pa3, pa4,pa5])\n",
    "        print(len(pa))\n",
    "\n",
    "        pa = np.array(pa)\n",
    "\n",
    "        return pa, True\n",
    "    except:\n",
    "        return None, False"
   ]
  },
  {
   "cell_type": "code",
   "execution_count": 3,
   "metadata": {},
   "outputs": [
    {
     "name": "stdout",
     "output_type": "stream",
     "text": [
      "733\n",
      "EE: [6.28385531], OS: [0.42518999], HO: [72.], LU: [74.]. \n"
     ]
    }
   ],
   "source": [
    "sSmiles = \"c1(c(cc(c(c1)Br)CC)Br)CC\"\n",
    "pa, lC = properties_array(sSmiles)\n",
    "\n",
    "#Normalize data\n",
    "scaler = joblib.load('./Models/scaler_model.pkl')\n",
    "normalized_data = scaler.transform([pa])\n",
    "\n",
    "# load saved models\n",
    "EE = joblib.load('./Models/RF_EE.pkl')\n",
    "OS = joblib.load('./Models/RF_OS.pkl')\n",
    "HO = joblib.load('./Models/RF_HO.pkl')\n",
    "LU = joblib.load('./Models/RF_LU.pkl')\n",
    "\n",
    "\n",
    "# Apply the loaded model to the new data\n",
    "Results = f'EE: {EE.predict(normalized_data)}, OS: {OS.predict(normalized_data)}, HO: {np.round(HO.predict(normalized_data))}, LU: {np.round(LU.predict(normalized_data))}. '\n",
    "print(Results)\n"
   ]
  },
  {
   "cell_type": "code",
   "execution_count": 6,
   "metadata": {},
   "outputs": [
    {
     "name": "stdout",
     "output_type": "stream",
     "text": [
      "733\n",
      " EE: 6.284, OS: 0.425, HO: 72.0, LU: 74 <- SMILES: c1(c(cc(c(c1)Br)CC)Br)CC \n",
      "733\n",
      " EE: 7.121, OS: 1.313, HO: 39.0, LU: 40 <- SMILES: CCO \n",
      "733\n",
      " EE: 6.93, OS: 1.33, HO: 39.0, LU: 40 <- SMILES: C \n"
     ]
    }
   ],
   "source": [
    "smiles_list = [\"c1(c(cc(c(c1)Br)CC)Br)CC\", \"CCO\", \"C\"]  # List of SMILES\n",
    "\n",
    "path = \"./Models\"\n",
    "scaler = joblib.load('./Models/scaler_model.pkl')\n",
    "EE = joblib.load(f'{path}/RF_EE.pkl')\n",
    "OS = joblib.load(f'{path}/RF_OS.pkl')\n",
    "HO = joblib.load(f'{path}/RF_HO.pkl')\n",
    "LU = joblib.load(f'{path}/RF_LU.pkl')\n",
    "\n",
    "for sSmiles in smiles_list:\n",
    "    pa, lC = properties_array(sSmiles)\n",
    "    \n",
    "    normalized_data = scaler.transform([pa])\n",
    "    \n",
    "    EE_pred = EE.predict(normalized_data)\n",
    "    OS_pred = OS.predict(normalized_data)\n",
    "    HO_pred = np.round(HO.predict(normalized_data))\n",
    "    LU_pred = np.round(LU.predict(normalized_data))\n",
    "    \n",
    "    results = f' EE: {round(EE_pred[0],3)}, OS: {round(OS_pred[0],3)}, HO: {round(HO_pred[0],3)}, LU: {round(LU_pred[0])} <- SMILES: {sSmiles} '\n",
    "    print(results)\n"
   ]
  }
 ],
 "metadata": {
  "kernelspec": {
   "display_name": "Python 3",
   "language": "python",
   "name": "python3"
  },
  "language_info": {
   "codemirror_mode": {
    "name": "ipython",
    "version": 3
   },
   "file_extension": ".py",
   "mimetype": "text/x-python",
   "name": "python",
   "nbconvert_exporter": "python",
   "pygments_lexer": "ipython3",
   "version": "3.12.2"
  }
 },
 "nbformat": 4,
 "nbformat_minor": 2
}
